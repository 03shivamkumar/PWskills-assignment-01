{
 "cells": [
  {
   "cell_type": "code",
   "execution_count": 1,
   "id": "8b19ec13-d759-4520-b8c7-99662504af48",
   "metadata": {},
   "outputs": [
    {
     "name": "stdout",
     "output_type": "stream",
     "text": [
      "<class 'str'>\n"
     ]
    }
   ],
   "source": [
    "# Q-1 create one variable containing following types data -:sting,list,float,tuple \n",
    "#string\n",
    "var1 = \" i am a student of pwskills from data science 2.0\"\n",
    "print(type(var1))"
   ]
  },
  {
   "cell_type": "code",
   "execution_count": 2,
   "id": "e8c3e8b3-2674-42e7-a5f0-412624a3d61c",
   "metadata": {},
   "outputs": [
    {
     "name": "stdout",
     "output_type": "stream",
     "text": [
      "<class 'list'>\n"
     ]
    }
   ],
   "source": [
    "#list\n",
    "var2 = ['name', 'shivam kumar','age',21,'course','data science',2.0,]\n",
    "print(type(var2))"
   ]
  },
  {
   "cell_type": "code",
   "execution_count": 3,
   "id": "3c975bd2-faaa-4d84-bf5b-fde6db72aa52",
   "metadata": {},
   "outputs": [
    {
     "name": "stdout",
     "output_type": "stream",
     "text": [
      "<class 'float'>\n"
     ]
    }
   ],
   "source": [
    "#float\n",
    "var3= 3.25\n",
    "print(type(var3))"
   ]
  },
  {
   "cell_type": "code",
   "execution_count": 5,
   "id": "1c89c5bc-9ee4-4557-b91e-51a953c58e39",
   "metadata": {},
   "outputs": [
    {
     "name": "stdout",
     "output_type": "stream",
     "text": [
      "<class 'tuple'>\n"
     ]
    }
   ],
   "source": [
    "#tuple\n",
    "var4=('shivam',20,'data science ',2.0,)\n",
    "print(type(var4))"
   ]
  },
  {
   "cell_type": "code",
   "execution_count": 7,
   "id": "88df7d46-c6ba-4def-a7d7-038d6280e9ed",
   "metadata": {},
   "outputs": [
    {
     "name": "stdout",
     "output_type": "stream",
     "text": [
      "<class 'str'>\n",
      "<class 'str'>\n",
      "<class 'list'>\n",
      "<class 'float'>\n"
     ]
    }
   ],
   "source": [
    "# Q-2 given are some following variable containing data \n",
    "var1 = ' '\n",
    "var2 = '[DS,ML,python]'\n",
    "var3= ['DS','Ml','python']\n",
    "var4 = 1.\n",
    "print(type(var1))\n",
    "print(type(var2))\n",
    "print(type(var3))\n",
    "print(type(var4))"
   ]
  },
  {
   "cell_type": "code",
   "execution_count": 31,
   "id": "41211968-71c2-4779-a709-375dd5909410",
   "metadata": {},
   "outputs": [
    {
     "name": "stdout",
     "output_type": "stream",
     "text": [
      "4.6\n",
      "<class 'float'>\n",
      "7\n",
      "<class 'int'>\n",
      "9\n",
      "<class 'int'>\n",
      "625\n",
      "<class 'int'>\n"
     ]
    }
   ],
   "source": [
    "# Q-3 explain the use of data type of the above given variable \n",
    "var1 = 23/5.0 # '/'  is called a Division and  Arithmetic Operator and we input the value in integer and float\n",
    "print(var1) # but the result will always came in floating value \n",
    "print(type(var1))\n",
    "\n",
    "a= 79 # '%' is called a modulus and Arithmetic Operator and we the value in integer and float \n",
    "b= 9 # but the result will always give you ar a Remainder and type is integer value for example 79%9 = Quotient=8 and Remainder=7 \n",
    "c= a%b\n",
    "print(c)\n",
    "print(type(c))\n",
    "\n",
    "    \n",
    "a=56\n",
    "b=6\n",
    "c=a//b # '//' is called a Division Floor and Arithmetic Operator and we input the value in integer and float \n",
    "print(c) # but the result will always came in integer value and it will take the integer value \n",
    "print(type(c)) # for example 56/6 = 9.3333 here 9 is the integer value .\n",
    "\n",
    "a= 25 # '**' is called a Exponent and Arithmetic Operator and  we input the value in integer and float \n",
    "b= 2 # but the result will came in floating and integer value\n",
    "c= a**b\n",
    "print(c)\n",
    "print(type(c))\n",
    "\n",
    "\n",
    "\n",
    "\n",
    "\n"
   ]
  },
  {
   "cell_type": "code",
   "execution_count": 41,
   "id": "4ed8cc45-f3d3-4db4-94e9-d9de3cc03515",
   "metadata": {},
   "outputs": [
    {
     "name": "stdout",
     "output_type": "stream",
     "text": [
      "name\n",
      "<class 'str'>\n",
      "shivam kumar\n",
      "<class 'str'>\n",
      "age\n",
      "<class 'str'>\n",
      "21\n",
      "<class 'int'>\n",
      "data science\n",
      "<class 'str'>\n",
      "2.0\n",
      "<class 'float'>\n",
      "True\n",
      "<class 'bool'>\n",
      "False\n",
      "<class 'bool'>\n",
      "28.5\n",
      "<class 'float'>\n",
      "python\n",
      "<class 'str'>\n"
     ]
    }
   ],
   "source": [
    "# Q-4 create a list of length 10 of your choice containing multiple types of data using for loop print element and is data type \n",
    "l=[\"name\",\"shivam kumar\",\"age\",21,\"data science\",2.0,True,False,28.5,\"python\"]\n",
    "for i in l:\n",
    "    print(i)\n",
    "    print(type(i)) "
   ]
  },
  {
   "cell_type": "code",
   "execution_count": 5,
   "id": "56a6aacb-0321-4af1-8c39-41d3a65c807b",
   "metadata": {},
   "outputs": [
    {
     "name": "stdin",
     "output_type": "stream",
     "text": [
      "Enter the number A= 81\n",
      "Enter the number B= 9\n"
     ]
    },
    {
     "name": "stdout",
     "output_type": "stream",
     "text": [
      "A is divisible by B\n",
      "2 times B can divide A\n"
     ]
    }
   ],
   "source": [
    "# Q-5 using a while loop verify if the number A is purely divisible by number B and if so then how many times\n",
    "# it can be divisible ?\n",
    "a= int(input(\"Enter the number A=\"))\n",
    "b= int(input(\"Enter the number B=\")) \n",
    "i=0\n",
    "\n",
    "while a%b==0:\n",
    "    i+=1\n",
    "    a/=b\n",
    "    \n",
    "print(f\"A is divisible by B\")\n",
    "print(f\"{i} times B can divide A\")"
   ]
  },
  {
   "cell_type": "code",
   "execution_count": null,
   "id": "5e272a51-4957-42cf-8485-c47f43e39849",
   "metadata": {},
   "outputs": [],
   "source": [
    "# Q-7 what do you understand about mutable and immutable data type ? give an example .\n",
    "list = [2,3,4,5,6,'shivam',(3+4j),True,34.56] \n",
    "list[3]='ola'"
   ]
  },
  {
   "cell_type": "code",
   "execution_count": null,
   "id": "e9469ada-b9a3-4347-86b4-b23f0fa9a908",
   "metadata": {},
   "outputs": [],
   "source": [
    "var5='shivam'\n",
    "var5[2]='k'"
   ]
  },
  {
   "cell_type": "code",
   "execution_count": null,
   "id": "66bf917c-6c72-49ca-9e74-ff7c69caa991",
   "metadata": {},
   "outputs": [],
   "source": []
  },
  {
   "cell_type": "code",
   "execution_count": null,
   "id": "eca4208c-d48c-4285-a5ac-6a72601cea38",
   "metadata": {},
   "outputs": [],
   "source": []
  },
  {
   "cell_type": "code",
   "execution_count": null,
   "id": "be35ed00-247e-4d50-8471-06a2c9b24159",
   "metadata": {},
   "outputs": [],
   "source": []
  },
  {
   "cell_type": "code",
   "execution_count": null,
   "id": "751f52aa-ffe9-40e8-a3a9-85e06e8f7a1e",
   "metadata": {},
   "outputs": [],
   "source": [
    "\n",
    "\n",
    "\n"
   ]
  }
 ],
 "metadata": {
  "kernelspec": {
   "display_name": "Python 3 (ipykernel)",
   "language": "python",
   "name": "python3"
  },
  "language_info": {
   "codemirror_mode": {
    "name": "ipython",
    "version": 3
   },
   "file_extension": ".py",
   "mimetype": "text/x-python",
   "name": "python",
   "nbconvert_exporter": "python",
   "pygments_lexer": "ipython3",
   "version": "3.10.8"
  }
 },
 "nbformat": 4,
 "nbformat_minor": 5
}
